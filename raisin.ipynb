{
 "cells": [
  {
   "cell_type": "markdown",
   "metadata": {},
   "source": [
    "Raisin Dataset\n",
    "\n",
    "Machine learning algorithm written in Python to distinguish between two raisin types (Kecimen, Besni).\n",
    "Data set containts 900 rows, 450 rows of each class.\n",
    "Classification problem solved by Support-vector machine (SVM) algorithm.\n",
    "\n",
    "Origin of dataset: https://www.kaggle.com/datasets/muratkokludataset/raisin-dataset"
   ]
  },
  {
   "cell_type": "markdown",
   "metadata": {},
   "source": [
    "All required libraries. Numpy for vectors, pandas for data frames, matplotlib for plots. Sklearn for machine learning."
   ]
  },
  {
   "cell_type": "code",
   "execution_count": 1,
   "metadata": {},
   "outputs": [],
   "source": [
    "# Libraries\n",
    "import numpy as np\n",
    "import pandas as pd\n",
    "import matplotlib.pyplot as plt\n",
    "\n",
    "# SVM libraries\n",
    "from sklearn.preprocessing import StandardScaler\n",
    "from sklearn.model_selection import train_test_split\n",
    "from sklearn.svm import SVC, SVR\n",
    "from sklearn.datasets import load_digits\n",
    "from sklearn.metrics import classification_report"
   ]
  },
  {
   "cell_type": "markdown",
   "metadata": {},
   "source": [
    "Reading and displaying the data set.\n",
    "All 7 raisin features are numerical. Class vector has to be changed to numbers (0 and 1)."
   ]
  },
  {
   "cell_type": "code",
   "execution_count": 2,
   "metadata": {},
   "outputs": [
    {
     "data": {
      "text/html": [
       "<div>\n",
       "<style scoped>\n",
       "    .dataframe tbody tr th:only-of-type {\n",
       "        vertical-align: middle;\n",
       "    }\n",
       "\n",
       "    .dataframe tbody tr th {\n",
       "        vertical-align: top;\n",
       "    }\n",
       "\n",
       "    .dataframe thead th {\n",
       "        text-align: right;\n",
       "    }\n",
       "</style>\n",
       "<table border=\"1\" class=\"dataframe\">\n",
       "  <thead>\n",
       "    <tr style=\"text-align: right;\">\n",
       "      <th></th>\n",
       "      <th>Area</th>\n",
       "      <th>MajorAxisLength</th>\n",
       "      <th>MinorAxisLength</th>\n",
       "      <th>Eccentricity</th>\n",
       "      <th>ConvexArea</th>\n",
       "      <th>Extent</th>\n",
       "      <th>Perimeter</th>\n",
       "      <th>Class</th>\n",
       "    </tr>\n",
       "  </thead>\n",
       "  <tbody>\n",
       "    <tr>\n",
       "      <th>0</th>\n",
       "      <td>87524</td>\n",
       "      <td>442.246011</td>\n",
       "      <td>253.291155</td>\n",
       "      <td>0.819738</td>\n",
       "      <td>90546</td>\n",
       "      <td>0.758651</td>\n",
       "      <td>1184.040</td>\n",
       "      <td>Kecimen</td>\n",
       "    </tr>\n",
       "    <tr>\n",
       "      <th>1</th>\n",
       "      <td>75166</td>\n",
       "      <td>406.690687</td>\n",
       "      <td>243.032436</td>\n",
       "      <td>0.801805</td>\n",
       "      <td>78789</td>\n",
       "      <td>0.684130</td>\n",
       "      <td>1121.786</td>\n",
       "      <td>Kecimen</td>\n",
       "    </tr>\n",
       "    <tr>\n",
       "      <th>2</th>\n",
       "      <td>90856</td>\n",
       "      <td>442.267048</td>\n",
       "      <td>266.328318</td>\n",
       "      <td>0.798354</td>\n",
       "      <td>93717</td>\n",
       "      <td>0.637613</td>\n",
       "      <td>1208.575</td>\n",
       "      <td>Kecimen</td>\n",
       "    </tr>\n",
       "    <tr>\n",
       "      <th>3</th>\n",
       "      <td>45928</td>\n",
       "      <td>286.540559</td>\n",
       "      <td>208.760042</td>\n",
       "      <td>0.684989</td>\n",
       "      <td>47336</td>\n",
       "      <td>0.699599</td>\n",
       "      <td>844.162</td>\n",
       "      <td>Kecimen</td>\n",
       "    </tr>\n",
       "    <tr>\n",
       "      <th>4</th>\n",
       "      <td>79408</td>\n",
       "      <td>352.190770</td>\n",
       "      <td>290.827533</td>\n",
       "      <td>0.564011</td>\n",
       "      <td>81463</td>\n",
       "      <td>0.792772</td>\n",
       "      <td>1073.251</td>\n",
       "      <td>Kecimen</td>\n",
       "    </tr>\n",
       "    <tr>\n",
       "      <th>...</th>\n",
       "      <td>...</td>\n",
       "      <td>...</td>\n",
       "      <td>...</td>\n",
       "      <td>...</td>\n",
       "      <td>...</td>\n",
       "      <td>...</td>\n",
       "      <td>...</td>\n",
       "      <td>...</td>\n",
       "    </tr>\n",
       "    <tr>\n",
       "      <th>895</th>\n",
       "      <td>83248</td>\n",
       "      <td>430.077308</td>\n",
       "      <td>247.838695</td>\n",
       "      <td>0.817263</td>\n",
       "      <td>85839</td>\n",
       "      <td>0.668793</td>\n",
       "      <td>1129.072</td>\n",
       "      <td>Besni</td>\n",
       "    </tr>\n",
       "    <tr>\n",
       "      <th>896</th>\n",
       "      <td>87350</td>\n",
       "      <td>440.735698</td>\n",
       "      <td>259.293149</td>\n",
       "      <td>0.808629</td>\n",
       "      <td>90899</td>\n",
       "      <td>0.636476</td>\n",
       "      <td>1214.252</td>\n",
       "      <td>Besni</td>\n",
       "    </tr>\n",
       "    <tr>\n",
       "      <th>897</th>\n",
       "      <td>99657</td>\n",
       "      <td>431.706981</td>\n",
       "      <td>298.837323</td>\n",
       "      <td>0.721684</td>\n",
       "      <td>106264</td>\n",
       "      <td>0.741099</td>\n",
       "      <td>1292.828</td>\n",
       "      <td>Besni</td>\n",
       "    </tr>\n",
       "    <tr>\n",
       "      <th>898</th>\n",
       "      <td>93523</td>\n",
       "      <td>476.344094</td>\n",
       "      <td>254.176054</td>\n",
       "      <td>0.845739</td>\n",
       "      <td>97653</td>\n",
       "      <td>0.658798</td>\n",
       "      <td>1258.548</td>\n",
       "      <td>Besni</td>\n",
       "    </tr>\n",
       "    <tr>\n",
       "      <th>899</th>\n",
       "      <td>85609</td>\n",
       "      <td>512.081774</td>\n",
       "      <td>215.271976</td>\n",
       "      <td>0.907345</td>\n",
       "      <td>89197</td>\n",
       "      <td>0.632020</td>\n",
       "      <td>1272.862</td>\n",
       "      <td>Besni</td>\n",
       "    </tr>\n",
       "  </tbody>\n",
       "</table>\n",
       "<p>900 rows × 8 columns</p>\n",
       "</div>"
      ],
      "text/plain": [
       "      Area  MajorAxisLength  MinorAxisLength  Eccentricity  ConvexArea  \\\n",
       "0    87524       442.246011       253.291155      0.819738       90546   \n",
       "1    75166       406.690687       243.032436      0.801805       78789   \n",
       "2    90856       442.267048       266.328318      0.798354       93717   \n",
       "3    45928       286.540559       208.760042      0.684989       47336   \n",
       "4    79408       352.190770       290.827533      0.564011       81463   \n",
       "..     ...              ...              ...           ...         ...   \n",
       "895  83248       430.077308       247.838695      0.817263       85839   \n",
       "896  87350       440.735698       259.293149      0.808629       90899   \n",
       "897  99657       431.706981       298.837323      0.721684      106264   \n",
       "898  93523       476.344094       254.176054      0.845739       97653   \n",
       "899  85609       512.081774       215.271976      0.907345       89197   \n",
       "\n",
       "       Extent  Perimeter    Class  \n",
       "0    0.758651   1184.040  Kecimen  \n",
       "1    0.684130   1121.786  Kecimen  \n",
       "2    0.637613   1208.575  Kecimen  \n",
       "3    0.699599    844.162  Kecimen  \n",
       "4    0.792772   1073.251  Kecimen  \n",
       "..        ...        ...      ...  \n",
       "895  0.668793   1129.072    Besni  \n",
       "896  0.636476   1214.252    Besni  \n",
       "897  0.741099   1292.828    Besni  \n",
       "898  0.658798   1258.548    Besni  \n",
       "899  0.632020   1272.862    Besni  \n",
       "\n",
       "[900 rows x 8 columns]"
      ]
     },
     "execution_count": 2,
     "metadata": {},
     "output_type": "execute_result"
    }
   ],
   "source": [
    "# Read data set\n",
    "data = pd.read_excel('Raisin_Dataset.xlsx', sheet_name = 'Raisin_Dataset')\n",
    "data"
   ]
  },
  {
   "cell_type": "markdown",
   "metadata": {},
   "source": [
    "Structure of data set displayed. Almost all columns have correct type."
   ]
  },
  {
   "cell_type": "code",
   "execution_count": 3,
   "metadata": {},
   "outputs": [
    {
     "name": "stdout",
     "output_type": "stream",
     "text": [
      "<class 'pandas.core.frame.DataFrame'>\n",
      "RangeIndex: 900 entries, 0 to 899\n",
      "Data columns (total 8 columns):\n",
      " #   Column           Non-Null Count  Dtype  \n",
      "---  ------           --------------  -----  \n",
      " 0   Area             900 non-null    int64  \n",
      " 1   MajorAxisLength  900 non-null    float64\n",
      " 2   MinorAxisLength  900 non-null    float64\n",
      " 3   Eccentricity     900 non-null    float64\n",
      " 4   ConvexArea       900 non-null    int64  \n",
      " 5   Extent           900 non-null    float64\n",
      " 6   Perimeter        900 non-null    float64\n",
      " 7   Class            900 non-null    object \n",
      "dtypes: float64(5), int64(2), object(1)\n",
      "memory usage: 56.4+ KB\n"
     ]
    }
   ],
   "source": [
    "# Data frame structure\n",
    "data.info()"
   ]
  },
  {
   "cell_type": "markdown",
   "metadata": {},
   "source": [
    "Converting class values to 0 and 1 and making sure every column is numerical."
   ]
  },
  {
   "cell_type": "code",
   "execution_count": 4,
   "metadata": {},
   "outputs": [
    {
     "name": "stdout",
     "output_type": "stream",
     "text": [
      "<class 'pandas.core.frame.DataFrame'>\n",
      "RangeIndex: 900 entries, 0 to 899\n",
      "Data columns (total 8 columns):\n",
      " #   Column           Non-Null Count  Dtype  \n",
      "---  ------           --------------  -----  \n",
      " 0   Area             900 non-null    int64  \n",
      " 1   MajorAxisLength  900 non-null    float64\n",
      " 2   MinorAxisLength  900 non-null    float64\n",
      " 3   Eccentricity     900 non-null    float64\n",
      " 4   ConvexArea       900 non-null    int64  \n",
      " 5   Extent           900 non-null    float64\n",
      " 6   Perimeter        900 non-null    float64\n",
      " 7   Class            900 non-null    int64  \n",
      "dtypes: float64(5), int64(3)\n",
      "memory usage: 56.4 KB\n"
     ]
    }
   ],
   "source": [
    "# Convert columns to numeric\n",
    "data['Class'] = data['Class'].str.replace('Kecimen', '0')\n",
    "data['Class'] = data['Class'].str.replace('Besni', '1')\n",
    "\n",
    "cols = data.columns\n",
    "data[cols] = data[cols].apply(pd.to_numeric, errors='coerce')\n",
    "\n",
    "# Data frame structure\n",
    "data.info()"
   ]
  },
  {
   "cell_type": "markdown",
   "metadata": {},
   "source": [
    "Need to check if values are distributed evenly."
   ]
  },
  {
   "cell_type": "code",
   "execution_count": 5,
   "metadata": {},
   "outputs": [
    {
     "data": {
      "text/plain": [
       "0    450\n",
       "1    450\n",
       "Name: Class, dtype: int64"
      ]
     },
     "execution_count": 5,
     "metadata": {},
     "output_type": "execute_result"
    }
   ],
   "source": [
    "# Classes are distrubuted evenly\n",
    "data['Class'].value_counts()"
   ]
  },
  {
   "cell_type": "markdown",
   "metadata": {},
   "source": [
    "Preparing data for SVM algorithm.\n",
    "Spliting class column from others."
   ]
  },
  {
   "cell_type": "code",
   "execution_count": 6,
   "metadata": {},
   "outputs": [],
   "source": [
    "# Data for SVM\n",
    "X = data\n",
    "X = X.drop(['Class'], axis = 1)\n",
    "Y = data.Class # class"
   ]
  },
  {
   "cell_type": "markdown",
   "metadata": {},
   "source": [
    "Polynomial kernel\n",
    "Parameters for polynomial kernel SVM model. Polynomial of multiple degrees is tested."
   ]
  },
  {
   "cell_type": "code",
   "execution_count": 7,
   "metadata": {},
   "outputs": [],
   "source": [
    "# Parameters for classificator - polynomial kernel\n",
    "degree = [1,2,3,4,5,6,7,8,9]\n",
    "degree = np.array(degree)\n",
    "\n",
    "# Tables to save accuracy - polynomial kernel\n",
    "Accuracy_CV_poly = np.zeros((10,1))\n",
    "Accuracy_poly = np.zeros(len(degree))"
   ]
  },
  {
   "cell_type": "markdown",
   "metadata": {},
   "source": [
    "SVM model training with polynomial kernel.\n",
    "Splitting data into 10% test size and rest for the training.\n",
    "Data is standarized after splitting.\n",
    "After model creation, it's fitted and tested.\n",
    "Later the accuracy is calculated."
   ]
  },
  {
   "cell_type": "code",
   "execution_count": 8,
   "metadata": {},
   "outputs": [
    {
     "data": {
      "text/plain": [
       "array([0.78888889, 0.59      , 0.73111111, 0.59888889, 0.69666667,\n",
       "       0.56777778, 0.63      , 0.57444444, 0.61111111])"
      ]
     },
     "execution_count": 8,
     "metadata": {},
     "output_type": "execute_result"
    }
   ],
   "source": [
    "# SVM - polynomial kernel\n",
    "for i in range(0, len(degree)): # degree\n",
    "    for k in range(1, 10): # Crossvalidation\n",
    "        # Split data into test and train sets\n",
    "        X_train_poly, X_test_poly, Y_train_poly, Y_test_poly = train_test_split(X, Y, test_size = 0.10) # 10 times cs so test_size is 10% of data set \n",
    "            \n",
    "        # Standarization\n",
    "        sc = StandardScaler()\n",
    "        sc.fit(X_train_poly)\n",
    "        X_train_poly = sc.transform(X_train_poly)\n",
    "        X_test_poly = sc.transform(X_test_poly)\n",
    "        X_train_poly = pd.DataFrame(X_train_poly)\n",
    "        X_test_poly = pd.DataFrame(X_test_poly)\n",
    "            \n",
    "        # Model\n",
    "        svclassifier = SVC(kernel='poly', degree = degree[i])\n",
    "        svclassifier.fit(X_train_poly, Y_train_poly)\n",
    "        \n",
    "        y_pred_poly = svclassifier.predict(X_test_poly)\n",
    "            \n",
    "        # Accuracy - how many values from y_pred are equal to Y_test\n",
    "        Accuracy_CV_poly[k] = sum(y_pred_poly == Y_test_poly)/len(Y_test_poly)\n",
    "\n",
    "    Accuracy_poly[i] = np.mean(Accuracy_CV_poly) # rows - gamma, columns - C\n",
    "    \n",
    "Accuracy_poly # display accuracy table"
   ]
  },
  {
   "cell_type": "markdown",
   "metadata": {},
   "source": [
    "Plotting accuracy.\n",
    "Change of degree is axis X."
   ]
  },
  {
   "cell_type": "code",
   "execution_count": 9,
   "metadata": {},
   "outputs": [
    {
     "data": {
      "text/plain": [
       "Text(0, 0.5, 'Accuracy')"
      ]
     },
     "execution_count": 9,
     "metadata": {},
     "output_type": "execute_result"
    },
    {
     "data": {
      "image/png": "[encoded data removed]",
      "text/plain": [
       "<Figure size 432x288 with 1 Axes>"
      ]
     },
     "metadata": {
      "needs_background": "light"
     },
     "output_type": "display_data"
    }
   ],
   "source": [
    "# polynomial kernel accuracy plot\n",
    "# axis X - degree\n",
    "plt.plot(Accuracy_poly)\n",
    "plt.xlabel('degree')\n",
    "plt.ylabel('Accuracy')\n",
    "#plt.xticks(np.arange(len(degree)), degree) # correct axis X ticks"
   ]
  },
  {
   "cell_type": "markdown",
   "metadata": {},
   "source": [
    "As we can see, the model build with polynomial kernel doesn't have the best accuracy."
   ]
  },
  {
   "cell_type": "markdown",
   "metadata": {},
   "source": [
    "RBF kernel¶\n",
    "Creating parameters for classificator.\n",
    "Multiple gamma and C values to check which one should be used in model for best accuracy.\n",
    "A low C makes the decision surface smooth, while a high C aims at classifying all training examples correctly. gamma defines how much influence a single training example has. The larger gamma is, the closer other examples must be to be affected.\n",
    "Creating accuracy tables to save their values. Accuracy_CV is 10x1 because of 10-fold cross-validation."
   ]
  },
  {
   "cell_type": "code",
   "execution_count": 10,
   "metadata": {},
   "outputs": [],
   "source": [
    "# Parameters for classificator - rbf kernel\n",
    "gamma = [0.0005, 0.005, 0.01, 0.05, 0.2, 0.8, 1.5, 2.5, 5, 10, 20, 50, 100]\n",
    "gamma = np.array(gamma)\n",
    "C = [1, 10, 100, 1000, 10000, 100000]\n",
    "C = np.array(C)"
   ]
  },
  {
   "cell_type": "markdown",
   "metadata": {},
   "source": [
    "SVM model training with rbf kernel.\n",
    "Splitting data into 10% test size and rest for the training.\n",
    "Data is standarized after splitting.\n",
    "After model creation, it's fitted and tested.\n",
    "Later the accuracy is calculated"
   ]
  },
  {
   "cell_type": "code",
   "execution_count": 11,
   "metadata": {},
   "outputs": [
    {
     "data": {
      "text/plain": [
       "array([[0.75      , 0.77777778, 0.78555556, 0.79      , 0.77222222,\n",
       "        0.76444444],\n",
       "       [0.79333333, 0.77888889, 0.78111111, 0.78      , 0.78888889,\n",
       "        0.77444444],\n",
       "       [0.78111111, 0.78333333, 0.76333333, 0.78111111, 0.80555556,\n",
       "        0.76888889],\n",
       "       [0.78777778, 0.78555556, 0.77777778, 0.75444444, 0.75888889,\n",
       "        0.78111111],\n",
       "       [0.77777778, 0.76666667, 0.76      , 0.76111111, 0.76222222,\n",
       "        0.75111111],\n",
       "       [0.77444444, 0.79444444, 0.75222222, 0.75555556, 0.72222222,\n",
       "        0.69666667],\n",
       "       [0.79      , 0.76777778, 0.73222222, 0.70888889, 0.70555556,\n",
       "        0.71666667],\n",
       "       [0.77222222, 0.74444444, 0.74666667, 0.72222222, 0.73666667,\n",
       "        0.70888889],\n",
       "       [0.75555556, 0.71777778, 0.72      , 0.72888889, 0.70555556,\n",
       "        0.70666667],\n",
       "       [0.71888889, 0.69      , 0.70555556, 0.72333333, 0.69666667,\n",
       "        0.71222222],\n",
       "       [0.68888889, 0.68333333, 0.68222222, 0.70111111, 0.70222222,\n",
       "        0.65      ],\n",
       "       [0.64111111, 0.65      , 0.63444444, 0.63555556, 0.64      ,\n",
       "        0.63111111],\n",
       "       [0.50444444, 0.56333333, 0.54111111, 0.51666667, 0.51555556,\n",
       "        0.59      ]])"
      ]
     },
     "execution_count": 11,
     "metadata": {},
     "output_type": "execute_result"
    }
   ],
   "source": [
    "# Tables to save accuracy - rbf kernel\n",
    "Accuracy_CV = np.zeros((10,1))\n",
    "Accuracy = np.zeros((len(gamma), len(C)))\n",
    "\n",
    "# SVM - rbf kernel\n",
    "for i in range(0, len(C)): # C\n",
    "    for j in range(0, len(gamma)): # gamma\n",
    "        for k in range(1, 10): # Crossvalidation\n",
    "            # Split data into test and train sets\n",
    "            X_train, X_test, Y_train, Y_test = train_test_split(X, Y, test_size = 0.10) # 10 times cs so test_size is 10% of data set \n",
    "            \n",
    "            # Standarization\n",
    "            sc = StandardScaler()\n",
    "            sc.fit(X_train)\n",
    "            X_train = sc.transform(X_train)\n",
    "            X_test = sc.transform(X_test)\n",
    "            X_train = pd.DataFrame(X_train)\n",
    "            X_test = pd.DataFrame(X_test)\n",
    "            \n",
    "            # Model\n",
    "            svclassifier = SVC(kernel = 'rbf', C = C[i], gamma = gamma[j])\n",
    "            \n",
    "            svclassifier.fit(X_train, Y_train)\n",
    "            y_pred = svclassifier.predict(X_test)\n",
    "            \n",
    "            # Accuracy - how many values from y_pred are equal to Y_test\n",
    "            Accuracy_CV[k] = sum(y_pred == Y_test)/len(Y_test)\n",
    "\n",
    "        Accuracy[j,i] = np.mean(Accuracy_CV) # rows - gamma, columns - C\n",
    "        \n",
    "Accuracy # display accuracy table"
   ]
  },
  {
   "cell_type": "markdown",
   "metadata": {},
   "source": [
    "Plotting accuracy.\n",
    "Each line is model with different C value. Change of gamma is axis X."
   ]
  },
  {
   "cell_type": "code",
   "execution_count": 12,
   "metadata": {},
   "outputs": [
    {
     "data": {
      "text/plain": [
       "<matplotlib.legend.Legend at 0x1e575ba6250>"
      ]
     },
     "execution_count": 12,
     "metadata": {},
     "output_type": "execute_result"
    },
    {
     "data": {
      "image/png": "[encoded data removed]",
      "text/plain": [
       "<Figure size 432x288 with 1 Axes>"
      ]
     },
     "metadata": {
      "needs_background": "light"
     },
     "output_type": "display_data"
    }
   ],
   "source": [
    "# rbf kernel accuracy plot\n",
    "# axis X - gamma, different lines - C     \n",
    "for p in range(0, len(C)): # number of lines = number of C values \n",
    "    plt.plot(Accuracy[:,p], label = C[p]) # every line plotted separately in order to have a name\n",
    "plt.xlabel('Gamma')\n",
    "plt.ylabel('Accuracy')\n",
    "plt.xticks(np.arange(len(gamma)), gamma) # correct axis X ticks\n",
    "plt.legend(title = 'C')"
   ]
  },
  {
   "cell_type": "markdown",
   "metadata": {},
   "source": [
    "Accuracy falls fown rapidly after gamma = 5.0. Bigger C values doesn't mean better accuracy as it seems.\n",
    "\n",
    "RBF kernel will be tested once again. This time data will come from previously splitted data set (X_train, Y_train) and will be splitted into new sets. The model will be trained on newly created train samples (X_train_rbf, Y_train_rbf) but previously created X_test will be predicted."
   ]
  },
  {
   "cell_type": "code",
   "execution_count": 13,
   "metadata": {},
   "outputs": [
    {
     "name": "stdout",
     "output_type": "stream",
     "text": [
      "Accuracy table:\n",
      " [[9.22222222e-01 1.00000000e+00]\n",
      " [9.00000000e-01 1.00000000e+00]\n",
      " [8.88888889e-01 1.00000000e+01]\n",
      " [8.66666667e-01 1.00000000e+00]\n",
      " [9.11111111e-01 1.00000000e+05]\n",
      " [8.11111111e-01 1.00000000e+00]\n",
      " [8.88888889e-01 1.00000000e+01]\n",
      " [8.55555556e-01 1.00000000e+02]\n",
      " [8.88888889e-01 1.00000000e+02]\n",
      " [8.88888889e-01 1.00000000e+02]]\n"
     ]
    }
   ],
   "source": [
    "C = [1, 10, 100, 1000, 10000, 100000]\n",
    "C = np.array(C)\n",
    "\n",
    "k_range = 10\n",
    "Accuracy_CV2 = np.zeros((len(C),2))\n",
    "Accuracy_rbf2 = np.zeros((k_range,2))\n",
    "# SVM - rbf kernel - k is outside loop\n",
    "for k in range(0, k_range):\n",
    "    # Split data into test and train sets\n",
    "    X_train_rbf2, X_test_rbf2, Y_train_rbf2, Y_test_rbf2 = train_test_split(X, Y, test_size = k_range/100) # 10 times cs so test_size is 10% of data set\n",
    "    \n",
    "    # Standarization\n",
    "    sc = StandardScaler()\n",
    "    sc.fit(X_train_rbf2)\n",
    "    X_train_rbf2 = sc.transform(X_train_rbf2)\n",
    "    X_test_rbf2 = sc.transform(X_test_rbf2)\n",
    "    X_train_rbf2 = pd.DataFrame(X_train_rbf2)\n",
    "    X_test_rbf2 = pd.DataFrame(X_test_rbf2)\n",
    "\n",
    "    for i in range(0, len(C)):\n",
    "        # Model\n",
    "        svclassifier = SVC(kernel = 'rbf', C = C[i], gamma = 0.05) # gamma constant\n",
    "        svclassifier.fit(X_train_rbf2, Y_train_rbf2)\n",
    "        y_pred_rbf2 = svclassifier.predict(X_test_rbf2)\n",
    "        \n",
    "        # Accuracy\n",
    "        Accuracy_CV2[i,0] = sum(y_pred_rbf2 == Y_test_rbf2)/len(Y_test_rbf2)\n",
    "        Accuracy_CV2[i,1] = C[i]\n",
    "\n",
    "    Accuracy_rbf2[k,0] = np.max(Accuracy_CV2[:,0]) # best accuracy\n",
    "    id_max = np.argmax(Accuracy_CV2[:,0], axis=0)\n",
    "    Accuracy_rbf2[k,1] = Accuracy_CV2[id_max,1] # C for best acuracy\n",
    "\n",
    "print(\"Accuracy table:\\n\", Accuracy_rbf2) # display accuracy table"
   ]
  },
  {
   "cell_type": "code",
   "execution_count": 14,
   "metadata": {},
   "outputs": [
    {
     "name": "stdout",
     "output_type": "stream",
     "text": [
      "Mean accuracy = 0.8822222222222222\n"
     ]
    }
   ],
   "source": [
    "# Average accuracy\n",
    "Accuracy_mean = np.mean(Accuracy_rbf2[:,0])\n",
    "print(\"Mean accuracy =\", Accuracy_mean)"
   ]
  },
  {
   "cell_type": "code",
   "execution_count": 15,
   "metadata": {},
   "outputs": [
    {
     "name": "stdout",
     "output_type": "stream",
     "text": [
      "C for value closest to average accuracy: 10.0\n"
     ]
    }
   ],
   "source": [
    "# Accuracy closest to average accuracy\n",
    "Accuarcy_roznica = Accuracy_rbf2[:,0] - Accuracy_mean\n",
    "Accuarcy_roznica = abs(Accuarcy_roznica)\n",
    "id_min = np.argmin(Accuarcy_roznica, axis=0)\n",
    "avg_acc_C = Accuracy_rbf2[id_min, 1]\n",
    "avg_acc = Accuracy_rbf2[id_min, 0]\n",
    "print(\"C for value closest to average accuracy:\",avg_acc_C)"
   ]
  },
  {
   "cell_type": "code",
   "execution_count": 37,
   "metadata": {},
   "outputs": [
    {
     "name": "stdout",
     "output_type": "stream",
     "text": [
      "Accuracy: 0.9444444444444444\n"
     ]
    }
   ],
   "source": [
    "# Split\n",
    "X_train_last, X_test_last, Y_train_last, Y_test_last = train_test_split(X, Y, test_size = 0.10) # 10 times cs so test_size is 10% of data set \n",
    "\n",
    "# Standarization\n",
    "sc = StandardScaler()\n",
    "sc.fit(X_train_last)\n",
    "X_train_last = sc.transform(X_train_last)\n",
    "X_test_last = sc.transform(X_test_last)\n",
    "X_train_last = pd.DataFrame(X_train_last)\n",
    "X_test_last = pd.DataFrame(X_test_last)\n",
    "\n",
    "# ModelC[i]\n",
    "svclassifier = SVC(kernel = 'rbf', C = avg_acc_C, gamma = 0.05)\n",
    "            \n",
    "svclassifier.fit(X_train_last, Y_train_last)\n",
    "y_pred_last = svclassifier.predict(X_test_last)\n",
    "            \n",
    "# Accuracy - how many values from y_pred are equal to Y_test\n",
    "Accuracy_CV_last = sum(y_pred_last == Y_test_last)/len(Y_test_last)\n",
    "print(\"Accuracy:\", Accuracy_CV_last)"
   ]
  },
  {
   "cell_type": "code",
   "execution_count": 38,
   "metadata": {},
   "outputs": [
    {
     "name": "stdout",
     "output_type": "stream",
     "text": [
      "              precision    recall  f1-score   support\n",
      "\n",
      "       Besni       0.96      0.94      0.95        54\n",
      "     Kecimen       0.92      0.94      0.93        36\n",
      "\n",
      "    accuracy                           0.94        90\n",
      "   macro avg       0.94      0.94      0.94        90\n",
      "weighted avg       0.94      0.94      0.94        90\n",
      "\n"
     ]
    }
   ],
   "source": [
    "print(classification_report(Y_test_last, y_pred_last, target_names=['Besni', 'Kecimen']))"
   ]
  }
 ],
 "metadata": {
  "interpreter": {
   "hash": "055d741e0b7498292b4fefc067b9c1b71adcb50b1fff2093c5e0f7495b8a3aa1"
  },
  "kernelspec": {
   "display_name": "Python 3.8.10 64-bit",
   "language": "python",
   "name": "python3"
  },
  "language_info": {
   "codemirror_mode": {
    "name": "ipython",
    "version": 3
   },
   "file_extension": ".py",
   "mimetype": "text/x-python",
   "name": "python",
   "nbconvert_exporter": "python",
   "pygments_lexer": "ipython3",
   "version": "3.8.10"
  },
  "orig_nbformat": 4
 },
 "nbformat": 4,
 "nbformat_minor": 2
}
