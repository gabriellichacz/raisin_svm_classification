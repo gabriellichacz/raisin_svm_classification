{
 "cells": [
  {
   "cell_type": "code",
   "execution_count": 11,
   "metadata": {},
   "outputs": [
    {
     "name": "stdout",
     "output_type": "stream",
     "text": [
      "<class 'pandas.core.frame.DataFrame'>\n",
      "RangeIndex: 900 entries, 0 to 899\n",
      "Data columns (total 8 columns):\n",
      " #   Column           Non-Null Count  Dtype  \n",
      "---  ------           --------------  -----  \n",
      " 0   Area             900 non-null    int64  \n",
      " 1   MajorAxisLength  900 non-null    float64\n",
      " 2   MinorAxisLength  900 non-null    float64\n",
      " 3   Eccentricity     900 non-null    float64\n",
      " 4   ConvexArea       900 non-null    int64  \n",
      " 5   Extent           900 non-null    float64\n",
      " 6   Perimeter        900 non-null    float64\n",
      " 7   Class            900 non-null    object \n",
      "dtypes: float64(5), int64(2), object(1)\n",
      "memory usage: 56.4+ KB\n",
      "<class 'pandas.core.frame.DataFrame'>\n",
      "RangeIndex: 900 entries, 0 to 899\n",
      "Data columns (total 8 columns):\n",
      " #   Column           Non-Null Count  Dtype  \n",
      "---  ------           --------------  -----  \n",
      " 0   Area             900 non-null    int64  \n",
      " 1   MajorAxisLength  900 non-null    float64\n",
      " 2   MinorAxisLength  900 non-null    float64\n",
      " 3   Eccentricity     900 non-null    float64\n",
      " 4   ConvexArea       900 non-null    int64  \n",
      " 5   Extent           900 non-null    float64\n",
      " 6   Perimeter        900 non-null    float64\n",
      " 7   Class            900 non-null    int64  \n",
      "dtypes: float64(5), int64(3)\n",
      "memory usage: 56.4 KB\n"
     ]
    }
   ],
   "source": [
    "# Libraries\n",
    "import numpy as np\n",
    "import pandas as pd\n",
    "import matplotlib.pyplot as plt\n",
    "\n",
    "# SVM libraries\n",
    "from sklearn.preprocessing import StandardScaler\n",
    "from sklearn.model_selection import train_test_split\n",
    "from sklearn.svm import SVC, SVR\n",
    "from sklearn.datasets import load_digits\n",
    "from sklearn.metrics import classification_report\n",
    "\n",
    "# Read data set\n",
    "data = pd.read_excel('Raisin_Dataset.xlsx', sheet_name = 'Raisin_Dataset')\n",
    "data\n",
    "\n",
    "# Data frame structure\n",
    "data.info()\n",
    "\n",
    "# Convert columns to numeric\n",
    "data['Class'] = data['Class'].str.replace('Kecimen', '0')\n",
    "data['Class'] = data['Class'].str.replace('Besni', '1')\n",
    "\n",
    "cols = data.columns\n",
    "data[cols] = data[cols].apply(pd.to_numeric, errors='coerce')\n",
    "\n",
    "# Data frame structure\n",
    "data.info()\n",
    "\n",
    "# Classes are distrubuted evenly\n",
    "data['Class'].value_counts()\n",
    "\n",
    "# Data for SVM\n",
    "X = data\n",
    "X = X.drop(['Class'], axis = 1)\n",
    "Y = data.Class # class"
   ]
  },
  {
   "cell_type": "code",
   "execution_count": 23,
   "metadata": {},
   "outputs": [],
   "source": [
    "C = [1, 10, 100, 1000, 10000, 100000]\n",
    "C = np.array(C)\n",
    "\n",
    "Accuracy_CV_new = np.zeros((len(C),2))\n",
    "Accuracy_rbf = np.zeros((k,2))\n",
    "\n",
    "for k in range(1,10)\n",
    "X_train_rbf, X_test_rbf, Y_train_rbf, Y_test_rbf = train_test_split(X, Y, test_size = 0.10) # 10 times cs so test_size is 10% of data set\n",
    "    \n",
    "# Standarization\n",
    "sc = StandardScaler()\n",
    "sc.fit(X_train_rbf)\n",
    "X_train_rbf = sc.transform(X_train_rbf)\n",
    "X_test_rbf = sc.transform(X_test_rbf)\n",
    "X_train_rbf = pd.DataFrame(X_train_rbf)\n",
    "X_test_rbf = pd.DataFrame(X_test_rbf)\n",
    "\n",
    "for i in range(0, len(C)):\n",
    "    # Model\n",
    "    svclassifier = SVC(kernel = 'rbf', C = C[i], gamma = 0.05) # gamma constant\n",
    "    svclassifier.fit(X_train_rbf, Y_train_rbf)\n",
    "    y_pred_rbf = svclassifier.predict(X_test_rbf)\n",
    "        \n",
    "    # Accuracy\n",
    "    Accuracy_CV_new[i,0] = sum(y_pred_rbf == Y_test_rbf)/len(Y_test_rbf)\n",
    "    Accuracy_CV_new[i,1] = C[i]\n",
    "\n",
    "Accuracy_rbf[k,0] = np.max(Accuracy_CV_new[:,0]) # best accuracy\n",
    "id_max = np.argmax(Accuracy_CV_new[:,0])\n",
    "Accuracy_rbf[k,1] = Accuracy_CV_new[id_max,1] # C for best acuracy"
   ]
  }
 ],
 "metadata": {
  "interpreter": {
   "hash": "369f2c481f4da34e4445cda3fffd2e751bd1c4d706f27375911949ba6bb62e1c"
  },
  "kernelspec": {
   "display_name": "Python 3.10.4 64-bit",
   "language": "python",
   "name": "python3"
  },
  "language_info": {
   "codemirror_mode": {
    "name": "ipython",
    "version": 3
   },
   "file_extension": ".py",
   "mimetype": "text/x-python",
   "name": "python",
   "nbconvert_exporter": "python",
   "pygments_lexer": "ipython3",
   "version": "3.10.4"
  },
  "orig_nbformat": 4
 },
 "nbformat": 4,
 "nbformat_minor": 2
}
