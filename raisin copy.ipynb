{
 "cells": [
  {
   "cell_type": "code",
   "execution_count": 48,
   "metadata": {},
   "outputs": [
    {
     "name": "stdout",
     "output_type": "stream",
     "text": [
      "<class 'pandas.core.frame.DataFrame'>\n",
      "RangeIndex: 900 entries, 0 to 899\n",
      "Data columns (total 8 columns):\n",
      " #   Column           Non-Null Count  Dtype  \n",
      "---  ------           --------------  -----  \n",
      " 0   Area             900 non-null    int64  \n",
      " 1   MajorAxisLength  900 non-null    float64\n",
      " 2   MinorAxisLength  900 non-null    float64\n",
      " 3   Eccentricity     900 non-null    float64\n",
      " 4   ConvexArea       900 non-null    int64  \n",
      " 5   Extent           900 non-null    float64\n",
      " 6   Perimeter        900 non-null    float64\n",
      " 7   Class            900 non-null    object \n",
      "dtypes: float64(5), int64(2), object(1)\n",
      "memory usage: 56.4+ KB\n",
      "<class 'pandas.core.frame.DataFrame'>\n",
      "RangeIndex: 900 entries, 0 to 899\n",
      "Data columns (total 8 columns):\n",
      " #   Column           Non-Null Count  Dtype  \n",
      "---  ------           --------------  -----  \n",
      " 0   Area             900 non-null    int64  \n",
      " 1   MajorAxisLength  900 non-null    float64\n",
      " 2   MinorAxisLength  900 non-null    float64\n",
      " 3   Eccentricity     900 non-null    float64\n",
      " 4   ConvexArea       900 non-null    int64  \n",
      " 5   Extent           900 non-null    float64\n",
      " 6   Perimeter        900 non-null    float64\n",
      " 7   Class            900 non-null    int64  \n",
      "dtypes: float64(5), int64(3)\n",
      "memory usage: 56.4 KB\n"
     ]
    }
   ],
   "source": [
    "# Libraries\n",
    "import numpy as np\n",
    "import pandas as pd\n",
    "import matplotlib.pyplot as plt\n",
    "\n",
    "# SVM libraries\n",
    "from sklearn.preprocessing import StandardScaler\n",
    "from sklearn.model_selection import train_test_split\n",
    "from sklearn.svm import SVC, SVR\n",
    "from sklearn.datasets import load_digits\n",
    "from sklearn.metrics import classification_report\n",
    "\n",
    "# Read data set\n",
    "data = pd.read_excel('Raisin_Dataset.xlsx', sheet_name = 'Raisin_Dataset')\n",
    "data\n",
    "\n",
    "# Data frame structure\n",
    "data.info()\n",
    "\n",
    "# Convert columns to numeric\n",
    "data['Class'] = data['Class'].str.replace('Kecimen', '0')\n",
    "data['Class'] = data['Class'].str.replace('Besni', '1')\n",
    "\n",
    "cols = data.columns\n",
    "data[cols] = data[cols].apply(pd.to_numeric, errors='coerce')\n",
    "\n",
    "# Data frame structure\n",
    "data.info()\n",
    "\n",
    "# Classes are distrubuted evenly\n",
    "data['Class'].value_counts()\n",
    "\n",
    "# Data for SVM\n",
    "X = data\n",
    "X = X.drop(['Class'], axis = 1)\n",
    "Y = data.Class # class"
   ]
  },
  {
   "cell_type": "markdown",
   "metadata": {},
   "source": [
    "*ustawić gamma na sztywno\n",
    "*pętla po k na zewnątrz\n",
    "*potem dzielenie na zbiory\n",
    "*potem pętla po C\n",
    "*zapisuję max dokładność i C dla jakiej wyszła\n",
    "*uśredniam dokładności\n",
    "*wybieram dokładność najbliższej średniej i C dla niej"
   ]
  },
  {
   "cell_type": "code",
   "execution_count": 49,
   "metadata": {},
   "outputs": [
    {
     "name": "stdout",
     "output_type": "stream",
     "text": [
      "Accuracy table:\n",
      " [[0.48888889 1.        ]\n",
      " [0.45555556 1.        ]\n",
      " [0.43333333 1.        ]\n",
      " [0.48888889 1.        ]\n",
      " [0.44444444 1.        ]\n",
      " [0.46666667 1.        ]\n",
      " [0.48888889 1.        ]\n",
      " [0.4        1.        ]\n",
      " [0.37777778 1.        ]\n",
      " [0.5        1.        ]]\n"
     ]
    }
   ],
   "source": [
    "C = [1, 10, 100, 1000, 10000, 100000]\n",
    "C = np.array(C)\n",
    "#gamma = [0.0005, 0.005, 0.01, 0.05, 0.2, 0.8, 1.5, 2.5, 5, 10, 20, 50, 100]\n",
    "#gamma = np.array(gamma)\n",
    "\n",
    "Accuracy_CV2 = np.zeros((len(C),2))\n",
    "Accuracy_rbf2 = np.zeros((10,2))\n",
    "\n",
    "# SVM - rbf kernel - k is outside loop\n",
    "for k in range(0, 10):\n",
    "    # Split data into test and train sets\n",
    "    X_train_rbf2, X_test_rbf2, Y_train_rbf2, Y_test_rbf2 = train_test_split(X, Y, test_size = 0.10) # 10 times cs so test_size is 10% of data set\n",
    "    \n",
    "    # Standarization\n",
    "    sc = StandardScaler()\n",
    "    sc.fit(X_train_rbf2)\n",
    "    X_train_rbf = sc.transform(X_train_rbf2)\n",
    "    X_test_rbf = sc.transform(X_test_rbf2)\n",
    "    X_train_rbf = pd.DataFrame(X_train_rbf2)\n",
    "    X_test_rbf = pd.DataFrame(X_test_rbf2)\n",
    "\n",
    "    for i in range(0, len(C)):\n",
    "        # Model\n",
    "        svclassifier = SVC(kernel = 'rbf', C = C[i], gamma = 0.05) # gamma constant\n",
    "        svclassifier.fit(X_train_rbf2, Y_train_rbf2)\n",
    "        y_pred_rbf = svclassifier.predict(X_test_rbf2)\n",
    "        \n",
    "        # Accuracy\n",
    "        Accuracy_CV2[i,0] = sum(y_pred_rbf == Y_test_rbf2)/len(Y_test_rbf2)\n",
    "        #print(\"Accuarcy: \", Accuracy_CV2[i,0])\n",
    "        Accuracy_CV2[i,1] = C[i]\n",
    "        #print(\"C: \", Accuracy_CV2[i,1])\n",
    "\n",
    "    Accuracy_rbf2[k,0] = np.max(Accuracy_CV2[:,0]) # best accuracy\n",
    "    id_max = np.argmax(Accuracy_CV2[:,0], axis=0)\n",
    "    #print(\"--------------------- ID MAX TO ---------------------\", id_max)\n",
    "    Accuracy_rbf2[k,1] = Accuracy_CV2[id_max,1] # C for best acuracy\n",
    "\n",
    "print(\"Accuracy table:\\n\", Accuracy_rbf2) # display accuracy table"
   ]
  },
  {
   "cell_type": "code",
   "execution_count": 50,
   "metadata": {},
   "outputs": [
    {
     "name": "stdout",
     "output_type": "stream",
     "text": [
      "Mean accuracy = 0.45444444444444443\n"
     ]
    }
   ],
   "source": [
    "# Average accuracy\n",
    "Accuracy_mean = np.mean(Accuracy_rbf2[:,0])\n",
    "print(\"Mean accuracy =\", Accuracy_mean)"
   ]
  },
  {
   "cell_type": "code",
   "execution_count": 53,
   "metadata": {},
   "outputs": [
    {
     "name": "stdout",
     "output_type": "stream",
     "text": [
      "C for value closest to average accuracy: 1.0\n"
     ]
    }
   ],
   "source": [
    "# Accuracy closest to average accuracy\n",
    "Accuarcy_roznica = Accuracy_rbf2[:,0] - Accuracy_mean\n",
    "Accuarcy_roznica = abs(Accuarcy_roznica)\n",
    "id_min = np.argmin(Accuarcy_roznica, axis=0)\n",
    "avg_acc_C = Accuracy_rbf2[id_min, 1]\n",
    "avg_acc = Accuracy_rbf2[id_min, 0]\n",
    "print(\"C for value closest to average accuracy:\",avg_acc_C)\n"
   ]
  }
 ],
 "metadata": {
  "interpreter": {
   "hash": "369f2c481f4da34e4445cda3fffd2e751bd1c4d706f27375911949ba6bb62e1c"
  },
  "kernelspec": {
   "display_name": "Python 3.10.4 64-bit",
   "language": "python",
   "name": "python3"
  },
  "language_info": {
   "codemirror_mode": {
    "name": "ipython",
    "version": 3
   },
   "file_extension": ".py",
   "mimetype": "text/x-python",
   "name": "python",
   "nbconvert_exporter": "python",
   "pygments_lexer": "ipython3",
   "version": "3.10.4"
  },
  "orig_nbformat": 4
 },
 "nbformat": 4,
 "nbformat_minor": 2
}
